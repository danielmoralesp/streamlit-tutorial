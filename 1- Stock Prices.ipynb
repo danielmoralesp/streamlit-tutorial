{
 "cells": [
  {
   "cell_type": "markdown",
   "metadata": {},
   "source": [
    "# 1- Stock Prices"
   ]
  },
  {
   "cell_type": "code",
   "execution_count": 1,
   "metadata": {},
   "outputs": [
    {
     "name": "stdout",
     "output_type": "stream",
     "text": [
      "Collecting yfinance\n",
      "  Downloading yfinance-0.1.55.tar.gz (23 kB)\n",
      "Requirement already satisfied: pandas>=0.24 in /home/daniel/Desktop/datacademy_project/notebooks/lib/python3.6/site-packages (from yfinance) (0.25.3)\n",
      "Requirement already satisfied: numpy>=1.15 in /home/daniel/Desktop/datacademy_project/notebooks/lib/python3.6/site-packages (from yfinance) (1.19.5)\n",
      "Requirement already satisfied: requests>=2.20 in /home/daniel/Desktop/datacademy_project/notebooks/lib/python3.6/site-packages (from yfinance) (2.23.0)\n",
      "Collecting multitasking>=0.0.7\n",
      "  Downloading multitasking-0.0.9.tar.gz (8.1 kB)\n",
      "Requirement already satisfied: lxml>=4.5.1 in /home/daniel/Desktop/datacademy_project/notebooks/lib/python3.6/site-packages (from yfinance) (4.6.2)\n",
      "Requirement already satisfied: python-dateutil>=2.6.1 in /home/daniel/Desktop/datacademy_project/notebooks/lib/python3.6/site-packages (from pandas>=0.24->yfinance) (2.8.1)\n",
      "Requirement already satisfied: pytz>=2017.2 in /home/daniel/Desktop/datacademy_project/notebooks/lib/python3.6/site-packages (from pandas>=0.24->yfinance) (2020.1)\n",
      "Requirement already satisfied: idna<3,>=2.5 in /home/daniel/Desktop/datacademy_project/notebooks/lib/python3.6/site-packages (from requests>=2.20->yfinance) (2.10)\n",
      "Requirement already satisfied: urllib3!=1.25.0,!=1.25.1,<1.26,>=1.21.1 in /home/daniel/Desktop/datacademy_project/notebooks/lib/python3.6/site-packages (from requests>=2.20->yfinance) (1.25.10)\n",
      "Requirement already satisfied: certifi>=2017.4.17 in /home/daniel/Desktop/datacademy_project/notebooks/lib/python3.6/site-packages (from requests>=2.20->yfinance) (2020.6.20)\n",
      "Requirement already satisfied: chardet<4,>=3.0.2 in /home/daniel/Desktop/datacademy_project/notebooks/lib/python3.6/site-packages (from requests>=2.20->yfinance) (3.0.4)\n",
      "Requirement already satisfied: six>=1.5 in /home/daniel/Desktop/datacademy_project/notebooks/lib/python3.6/site-packages (from python-dateutil>=2.6.1->pandas>=0.24->yfinance) (1.15.0)\n",
      "Building wheels for collected packages: yfinance, multitasking\n",
      "  Building wheel for yfinance (setup.py) ... \u001b[?25ldone\n",
      "\u001b[?25h  Created wheel for yfinance: filename=yfinance-0.1.55-py2.py3-none-any.whl size=22618 sha256=82f5155a2ec4b9bfb883540cedc405710bc6f9d08ab66969d3d8fed20020aae4\n",
      "  Stored in directory: /home/daniel/.cache/pip/wheels/68/72/87/a384b8b8139f2489024464d6f5937e6acb2054c57d25519fb9\n",
      "  Building wheel for multitasking (setup.py) ... \u001b[?25ldone\n",
      "\u001b[?25h  Created wheel for multitasking: filename=multitasking-0.0.9-py3-none-any.whl size=8367 sha256=742fd84aa4ea5bb491d14074b7b4a1d43d3ae2ff7be83469635f9ae36dc2ec59\n",
      "  Stored in directory: /home/daniel/.cache/pip/wheels/5e/8a/c4/59c699498647c7c94b14c87a904ca7540646107b3d94b7c320\n",
      "Successfully built yfinance multitasking\n",
      "Installing collected packages: multitasking, yfinance\n",
      "Successfully installed multitasking-0.0.9 yfinance-0.1.55\n",
      "\u001b[33mWARNING: You are using pip version 20.1.1; however, version 20.3.3 is available.\n",
      "You should consider upgrading via the '/home/daniel/Desktop/datacademy_project/notebooks/bin/python -m pip install --upgrade pip' command.\u001b[0m\n"
     ]
    }
   ],
   "source": [
    "!pip3 install yfinance"
   ]
  },
  {
   "cell_type": "code",
   "execution_count": 3,
   "metadata": {},
   "outputs": [],
   "source": [
    "import yfinance as yf\n",
    "import streamlit as st\n",
    "import pandas as pd"
   ]
  },
  {
   "cell_type": "code",
   "execution_count": 4,
   "metadata": {},
   "outputs": [],
   "source": [
    "st.write(\"\"\"\n",
    "# Simple Stock Price App\n",
    "\n",
    "Shown are the stock closing price ans volume of Google\n",
    "\n",
    "\"\"\")"
   ]
  },
  {
   "cell_type": "code",
   "execution_count": 5,
   "metadata": {},
   "outputs": [],
   "source": [
    "tickerSymbol = \"GOOGL\""
   ]
  },
  {
   "cell_type": "code",
   "execution_count": 7,
   "metadata": {},
   "outputs": [],
   "source": [
    "tickerData = yf.Ticker(tickerSymbol)"
   ]
  },
  {
   "cell_type": "code",
   "execution_count": 8,
   "metadata": {},
   "outputs": [
    {
     "data": {
      "text/plain": [
       "yfinance.Ticker object <GOOGL>"
      ]
     },
     "execution_count": 8,
     "metadata": {},
     "output_type": "execute_result"
    }
   ],
   "source": [
    "tickerData"
   ]
  },
  {
   "cell_type": "code",
   "execution_count": 9,
   "metadata": {},
   "outputs": [
    {
     "name": "stderr",
     "output_type": "stream",
     "text": [
      "2021-01-16 06:36:27.081 INFO    numexpr.utils: NumExpr defaulting to 4 threads.\n"
     ]
    }
   ],
   "source": [
    "tickerDf = tickerData.history(period='1d', start='2010-5-31', end='2020-5-31')"
   ]
  },
  {
   "cell_type": "code",
   "execution_count": 10,
   "metadata": {},
   "outputs": [
    {
     "data": {
      "text/html": [
       "<div>\n",
       "<style scoped>\n",
       "    .dataframe tbody tr th:only-of-type {\n",
       "        vertical-align: middle;\n",
       "    }\n",
       "\n",
       "    .dataframe tbody tr th {\n",
       "        vertical-align: top;\n",
       "    }\n",
       "\n",
       "    .dataframe thead th {\n",
       "        text-align: right;\n",
       "    }\n",
       "</style>\n",
       "<table border=\"1\" class=\"dataframe\">\n",
       "  <thead>\n",
       "    <tr style=\"text-align: right;\">\n",
       "      <th></th>\n",
       "      <th>Open</th>\n",
       "      <th>High</th>\n",
       "      <th>Low</th>\n",
       "      <th>Close</th>\n",
       "      <th>Volume</th>\n",
       "      <th>Dividends</th>\n",
       "      <th>Stock Splits</th>\n",
       "    </tr>\n",
       "    <tr>\n",
       "      <th>Date</th>\n",
       "      <th></th>\n",
       "      <th></th>\n",
       "      <th></th>\n",
       "      <th></th>\n",
       "      <th></th>\n",
       "      <th></th>\n",
       "      <th></th>\n",
       "    </tr>\n",
       "  </thead>\n",
       "  <tbody>\n",
       "    <tr>\n",
       "      <th>2010-06-01</th>\n",
       "      <td>240.455460</td>\n",
       "      <td>245.775772</td>\n",
       "      <td>240.300293</td>\n",
       "      <td>241.426422</td>\n",
       "      <td>5328200</td>\n",
       "      <td>0</td>\n",
       "      <td>0.0</td>\n",
       "    </tr>\n",
       "    <tr>\n",
       "      <th>2010-06-02</th>\n",
       "      <td>243.583588</td>\n",
       "      <td>247.182175</td>\n",
       "      <td>240.970978</td>\n",
       "      <td>246.931931</td>\n",
       "      <td>5076500</td>\n",
       "      <td>0</td>\n",
       "      <td>0.0</td>\n",
       "    </tr>\n",
       "    <tr>\n",
       "      <th>2010-06-03</th>\n",
       "      <td>247.802795</td>\n",
       "      <td>254.254257</td>\n",
       "      <td>247.597595</td>\n",
       "      <td>253.053055</td>\n",
       "      <td>7294000</td>\n",
       "      <td>0</td>\n",
       "      <td>0.0</td>\n",
       "    </tr>\n",
       "    <tr>\n",
       "      <th>2010-06-04</th>\n",
       "      <td>250.110107</td>\n",
       "      <td>254.879883</td>\n",
       "      <td>248.598602</td>\n",
       "      <td>249.609604</td>\n",
       "      <td>7832700</td>\n",
       "      <td>0</td>\n",
       "      <td>0.0</td>\n",
       "    </tr>\n",
       "    <tr>\n",
       "      <th>2010-06-07</th>\n",
       "      <td>249.779785</td>\n",
       "      <td>250.705704</td>\n",
       "      <td>241.816818</td>\n",
       "      <td>243.003006</td>\n",
       "      <td>7258100</td>\n",
       "      <td>0</td>\n",
       "      <td>0.0</td>\n",
       "    </tr>\n",
       "    <tr>\n",
       "      <th>...</th>\n",
       "      <td>...</td>\n",
       "      <td>...</td>\n",
       "      <td>...</td>\n",
       "      <td>...</td>\n",
       "      <td>...</td>\n",
       "      <td>...</td>\n",
       "      <td>...</td>\n",
       "    </tr>\n",
       "    <tr>\n",
       "      <th>2020-05-22</th>\n",
       "      <td>1403.900024</td>\n",
       "      <td>1417.000000</td>\n",
       "      <td>1395.949951</td>\n",
       "      <td>1413.239990</td>\n",
       "      <td>1427200</td>\n",
       "      <td>0</td>\n",
       "      <td>0.0</td>\n",
       "    </tr>\n",
       "    <tr>\n",
       "      <th>2020-05-26</th>\n",
       "      <td>1441.959961</td>\n",
       "      <td>1445.109985</td>\n",
       "      <td>1419.400024</td>\n",
       "      <td>1421.369995</td>\n",
       "      <td>2229500</td>\n",
       "      <td>0</td>\n",
       "      <td>0.0</td>\n",
       "    </tr>\n",
       "    <tr>\n",
       "      <th>2020-05-27</th>\n",
       "      <td>1420.000000</td>\n",
       "      <td>1425.349976</td>\n",
       "      <td>1394.599976</td>\n",
       "      <td>1420.280029</td>\n",
       "      <td>1584200</td>\n",
       "      <td>0</td>\n",
       "      <td>0.0</td>\n",
       "    </tr>\n",
       "    <tr>\n",
       "      <th>2020-05-28</th>\n",
       "      <td>1400.000000</td>\n",
       "      <td>1444.459961</td>\n",
       "      <td>1399.079956</td>\n",
       "      <td>1418.239990</td>\n",
       "      <td>1758500</td>\n",
       "      <td>0</td>\n",
       "      <td>0.0</td>\n",
       "    </tr>\n",
       "    <tr>\n",
       "      <th>2020-05-29</th>\n",
       "      <td>1420.430054</td>\n",
       "      <td>1436.729980</td>\n",
       "      <td>1415.979980</td>\n",
       "      <td>1433.520020</td>\n",
       "      <td>1852200</td>\n",
       "      <td>0</td>\n",
       "      <td>0.0</td>\n",
       "    </tr>\n",
       "  </tbody>\n",
       "</table>\n",
       "<p>2517 rows × 7 columns</p>\n",
       "</div>"
      ],
      "text/plain": [
       "                   Open         High          Low        Close   Volume  \\\n",
       "Date                                                                      \n",
       "2010-06-01   240.455460   245.775772   240.300293   241.426422  5328200   \n",
       "2010-06-02   243.583588   247.182175   240.970978   246.931931  5076500   \n",
       "2010-06-03   247.802795   254.254257   247.597595   253.053055  7294000   \n",
       "2010-06-04   250.110107   254.879883   248.598602   249.609604  7832700   \n",
       "2010-06-07   249.779785   250.705704   241.816818   243.003006  7258100   \n",
       "...                 ...          ...          ...          ...      ...   \n",
       "2020-05-22  1403.900024  1417.000000  1395.949951  1413.239990  1427200   \n",
       "2020-05-26  1441.959961  1445.109985  1419.400024  1421.369995  2229500   \n",
       "2020-05-27  1420.000000  1425.349976  1394.599976  1420.280029  1584200   \n",
       "2020-05-28  1400.000000  1444.459961  1399.079956  1418.239990  1758500   \n",
       "2020-05-29  1420.430054  1436.729980  1415.979980  1433.520020  1852200   \n",
       "\n",
       "            Dividends  Stock Splits  \n",
       "Date                                 \n",
       "2010-06-01          0           0.0  \n",
       "2010-06-02          0           0.0  \n",
       "2010-06-03          0           0.0  \n",
       "2010-06-04          0           0.0  \n",
       "2010-06-07          0           0.0  \n",
       "...               ...           ...  \n",
       "2020-05-22          0           0.0  \n",
       "2020-05-26          0           0.0  \n",
       "2020-05-27          0           0.0  \n",
       "2020-05-28          0           0.0  \n",
       "2020-05-29          0           0.0  \n",
       "\n",
       "[2517 rows x 7 columns]"
      ]
     },
     "execution_count": 10,
     "metadata": {},
     "output_type": "execute_result"
    }
   ],
   "source": [
    "tickerDf"
   ]
  },
  {
   "cell_type": "code",
   "execution_count": 11,
   "metadata": {},
   "outputs": [
    {
     "data": {
      "text/plain": [
       "<streamlit.delta_generator.DeltaGenerator at 0x7fc651866748>"
      ]
     },
     "execution_count": 11,
     "metadata": {},
     "output_type": "execute_result"
    }
   ],
   "source": [
    "st.line_chart(tickerDf.Close)"
   ]
  },
  {
   "cell_type": "code",
   "execution_count": 12,
   "metadata": {},
   "outputs": [
    {
     "data": {
      "text/plain": [
       "<streamlit.delta_generator.DeltaGenerator at 0x7fc651866748>"
      ]
     },
     "execution_count": 12,
     "metadata": {},
     "output_type": "execute_result"
    }
   ],
   "source": [
    "st.line_chart(tickerDf.Volume)"
   ]
  },
  {
   "cell_type": "code",
   "execution_count": 15,
   "metadata": {},
   "outputs": [
    {
     "data": {
      "text/plain": [
       "Date\n",
       "2010-06-01     241.426422\n",
       "2010-06-02     246.931931\n",
       "2010-06-03     253.053055\n",
       "2010-06-04     249.609604\n",
       "2010-06-07     243.003006\n",
       "                 ...     \n",
       "2020-05-22    1413.239990\n",
       "2020-05-26    1421.369995\n",
       "2020-05-27    1420.280029\n",
       "2020-05-28    1418.239990\n",
       "2020-05-29    1433.520020\n",
       "Name: Close, Length: 2517, dtype: float64"
      ]
     },
     "execution_count": 15,
     "metadata": {},
     "output_type": "execute_result"
    }
   ],
   "source": [
    "tickerDf.Close"
   ]
  },
  {
   "cell_type": "code",
   "execution_count": 16,
   "metadata": {},
   "outputs": [
    {
     "data": {
      "text/plain": [
       "pandas.core.series.Series"
      ]
     },
     "execution_count": 16,
     "metadata": {},
     "output_type": "execute_result"
    }
   ],
   "source": [
    "type(tickerDf.Close)"
   ]
  },
  {
   "cell_type": "code",
   "execution_count": null,
   "metadata": {},
   "outputs": [],
   "source": []
  }
 ],
 "metadata": {
  "kernelspec": {
   "display_name": "Python 3",
   "language": "python",
   "name": "python3"
  },
  "language_info": {
   "codemirror_mode": {
    "name": "ipython",
    "version": 3
   },
   "file_extension": ".py",
   "mimetype": "text/x-python",
   "name": "python",
   "nbconvert_exporter": "python",
   "pygments_lexer": "ipython3",
   "version": "3.6.11"
  }
 },
 "nbformat": 4,
 "nbformat_minor": 4
}
